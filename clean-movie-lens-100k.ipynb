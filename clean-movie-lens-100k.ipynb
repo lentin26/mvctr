{
 "cells": [
  {
   "cell_type": "code",
   "execution_count": 2,
   "metadata": {},
   "outputs": [],
   "source": [
    "import pandas as pd\n",
    "import numpy as np"
   ]
  },
  {
   "cell_type": "markdown",
   "metadata": {},
   "source": [
    "# Clean MovieLens 100K Dataset\n",
    "#### Ratings"
   ]
  },
  {
   "cell_type": "code",
   "execution_count": 14,
   "metadata": {},
   "outputs": [
    {
     "name": "stdout",
     "output_type": "stream",
     "text": [
      "Average raw rating: 3.828104640673549\n",
      "Total ratings: 29931\n"
     ]
    },
    {
     "data": {
      "text/html": [
       "<div>\n",
       "<style scoped>\n",
       "    .dataframe tbody tr th:only-of-type {\n",
       "        vertical-align: middle;\n",
       "    }\n",
       "\n",
       "    .dataframe tbody tr th {\n",
       "        vertical-align: top;\n",
       "    }\n",
       "\n",
       "    .dataframe thead th {\n",
       "        text-align: right;\n",
       "    }\n",
       "</style>\n",
       "<table border=\"1\" class=\"dataframe\">\n",
       "  <thead>\n",
       "    <tr style=\"text-align: right;\">\n",
       "      <th></th>\n",
       "      <th>user_id</th>\n",
       "      <th>item_id</th>\n",
       "      <th>rating</th>\n",
       "      <th>timestamp</th>\n",
       "    </tr>\n",
       "  </thead>\n",
       "  <tbody>\n",
       "    <tr>\n",
       "      <th>1</th>\n",
       "      <td>186</td>\n",
       "      <td>302</td>\n",
       "      <td>3</td>\n",
       "      <td>891717742</td>\n",
       "    </tr>\n",
       "    <tr>\n",
       "      <th>6</th>\n",
       "      <td>115</td>\n",
       "      <td>265</td>\n",
       "      <td>2</td>\n",
       "      <td>881171488</td>\n",
       "    </tr>\n",
       "    <tr>\n",
       "      <th>10</th>\n",
       "      <td>62</td>\n",
       "      <td>257</td>\n",
       "      <td>2</td>\n",
       "      <td>879372434</td>\n",
       "    </tr>\n",
       "    <tr>\n",
       "      <th>12</th>\n",
       "      <td>200</td>\n",
       "      <td>222</td>\n",
       "      <td>5</td>\n",
       "      <td>876042340</td>\n",
       "    </tr>\n",
       "    <tr>\n",
       "      <th>22</th>\n",
       "      <td>299</td>\n",
       "      <td>144</td>\n",
       "      <td>4</td>\n",
       "      <td>877881320</td>\n",
       "    </tr>\n",
       "  </tbody>\n",
       "</table>\n",
       "</div>"
      ],
      "text/plain": [
       "    user_id  item_id  rating  timestamp\n",
       "1       186      302       3  891717742\n",
       "6       115      265       2  881171488\n",
       "10       62      257       2  879372434\n",
       "12      200      222       5  876042340\n",
       "22      299      144       4  877881320"
      ]
     },
     "execution_count": 14,
     "metadata": {},
     "output_type": "execute_result"
    }
   ],
   "source": [
    "# read data and add column headers\n",
    "rating_df = pd.read_csv('data/raw/ml-100k/u.data', sep='\\t', header=None)\n",
    "rating_df.columns = [x.strip() for x in 'user id | item id | rating | timestamp'.split('|')]\n",
    "\n",
    "# keep only top 100 most popular movies\n",
    "rating_df = rating_df[\n",
    "    rating_df['item id'].isin(rating_df['item id'].value_counts().head(100).index)\n",
    "]\n",
    "\n",
    "rating_df.rename(columns={'user id': 'user_id', 'item id': 'item_id'}, inplace=True)\n",
    "\n",
    "print('Average raw rating:', rating_df['rating'].mean())\n",
    "print('Total ratings:', len(rating_df))\n",
    "\n",
    "rating_df.to_csv('./data/clean/movie-lens-100k-ratings.csv', index=False)\n",
    "rating_df.head()"
   ]
  },
  {
   "cell_type": "markdown",
   "metadata": {},
   "source": [
    "#### Users"
   ]
  },
  {
   "cell_type": "code",
   "execution_count": 12,
   "metadata": {},
   "outputs": [
    {
     "name": "stdout",
     "output_type": "stream",
     "text": [
      "user_id          943\n",
      "gender             2\n",
      "occupation        21\n",
      "decades_lived      8\n",
      "dtype: int64\n"
     ]
    },
    {
     "data": {
      "text/html": [
       "<div>\n",
       "<style scoped>\n",
       "    .dataframe tbody tr th:only-of-type {\n",
       "        vertical-align: middle;\n",
       "    }\n",
       "\n",
       "    .dataframe tbody tr th {\n",
       "        vertical-align: top;\n",
       "    }\n",
       "\n",
       "    .dataframe thead th {\n",
       "        text-align: right;\n",
       "    }\n",
       "</style>\n",
       "<table border=\"1\" class=\"dataframe\">\n",
       "  <thead>\n",
       "    <tr style=\"text-align: right;\">\n",
       "      <th></th>\n",
       "      <th>user_id</th>\n",
       "      <th>gender</th>\n",
       "      <th>occupation</th>\n",
       "      <th>decades_lived</th>\n",
       "    </tr>\n",
       "  </thead>\n",
       "  <tbody>\n",
       "    <tr>\n",
       "      <th>0</th>\n",
       "      <td>1</td>\n",
       "      <td>M</td>\n",
       "      <td>technician</td>\n",
       "      <td>20</td>\n",
       "    </tr>\n",
       "    <tr>\n",
       "      <th>1</th>\n",
       "      <td>2</td>\n",
       "      <td>F</td>\n",
       "      <td>other</td>\n",
       "      <td>50</td>\n",
       "    </tr>\n",
       "    <tr>\n",
       "      <th>2</th>\n",
       "      <td>3</td>\n",
       "      <td>M</td>\n",
       "      <td>writer</td>\n",
       "      <td>20</td>\n",
       "    </tr>\n",
       "    <tr>\n",
       "      <th>3</th>\n",
       "      <td>4</td>\n",
       "      <td>M</td>\n",
       "      <td>technician</td>\n",
       "      <td>20</td>\n",
       "    </tr>\n",
       "    <tr>\n",
       "      <th>4</th>\n",
       "      <td>5</td>\n",
       "      <td>F</td>\n",
       "      <td>other</td>\n",
       "      <td>30</td>\n",
       "    </tr>\n",
       "  </tbody>\n",
       "</table>\n",
       "</div>"
      ],
      "text/plain": [
       "   user_id gender  occupation decades_lived\n",
       "0        1      M  technician            20\n",
       "1        2      F       other            50\n",
       "2        3      M      writer            20\n",
       "3        4      M  technician            20\n",
       "4        5      F       other            30"
      ]
     },
     "execution_count": 12,
     "metadata": {},
     "output_type": "execute_result"
    }
   ],
   "source": [
    "user_df = pd.read_csv('data/raw/ml-100k/u.user', sep='|', header=None)\n",
    "user_df.columns = [x.strip() for x in 'user id | age | gender | occupation | zip code'.split('|')]\n",
    "\n",
    "user_df['decades_lived'] = (10 * np.floor((user_df.age / 10))).astype(int).astype(str)\n",
    "user_df.drop(columns=['age', 'zip code'], inplace=True)\n",
    "\n",
    "user_df.rename(columns={'user id': 'user_id'}, inplace=True)\n",
    "\n",
    "print(user_df.nunique())\n",
    "user_df.to_csv('./data/clean/movie-lens-100k-users.csv', index=False)\n",
    "user_df.head()"
   ]
  },
  {
   "cell_type": "code",
   "execution_count": 10,
   "metadata": {},
   "outputs": [
    {
     "name": "stdout",
     "output_type": "stream",
     "text": [
      "item_id           1682\n",
      "genre               19\n",
      "release_decade       9\n",
      "dtype: int64\n"
     ]
    },
    {
     "data": {
      "text/html": [
       "<div>\n",
       "<style scoped>\n",
       "    .dataframe tbody tr th:only-of-type {\n",
       "        vertical-align: middle;\n",
       "    }\n",
       "\n",
       "    .dataframe tbody tr th {\n",
       "        vertical-align: top;\n",
       "    }\n",
       "\n",
       "    .dataframe thead th {\n",
       "        text-align: right;\n",
       "    }\n",
       "</style>\n",
       "<table border=\"1\" class=\"dataframe\">\n",
       "  <thead>\n",
       "    <tr style=\"text-align: right;\">\n",
       "      <th></th>\n",
       "      <th>item_id</th>\n",
       "      <th>genre</th>\n",
       "      <th>release_decade</th>\n",
       "    </tr>\n",
       "  </thead>\n",
       "  <tbody>\n",
       "    <tr>\n",
       "      <th>0</th>\n",
       "      <td>1</td>\n",
       "      <td>Animation</td>\n",
       "      <td>1990</td>\n",
       "    </tr>\n",
       "    <tr>\n",
       "      <th>1</th>\n",
       "      <td>1</td>\n",
       "      <td>Children's</td>\n",
       "      <td>1990</td>\n",
       "    </tr>\n",
       "    <tr>\n",
       "      <th>2</th>\n",
       "      <td>1</td>\n",
       "      <td>Comedy</td>\n",
       "      <td>1990</td>\n",
       "    </tr>\n",
       "    <tr>\n",
       "      <th>3</th>\n",
       "      <td>2</td>\n",
       "      <td>Action</td>\n",
       "      <td>1990</td>\n",
       "    </tr>\n",
       "    <tr>\n",
       "      <th>4</th>\n",
       "      <td>2</td>\n",
       "      <td>Adventure</td>\n",
       "      <td>1990</td>\n",
       "    </tr>\n",
       "  </tbody>\n",
       "</table>\n",
       "</div>"
      ],
      "text/plain": [
       "   item_id       genre release_decade\n",
       "0        1   Animation           1990\n",
       "1        1  Children's           1990\n",
       "2        1      Comedy           1990\n",
       "3        2      Action           1990\n",
       "4        2   Adventure           1990"
      ]
     },
     "execution_count": 10,
     "metadata": {},
     "output_type": "execute_result"
    }
   ],
   "source": [
    "item_df = pd.read_csv('data/raw/ml-100k/u.item', sep='|', header=None, encoding = \"ISO-8859-1\")\n",
    "\n",
    "cols = \"\"\"\n",
    "    movie id | movie title | release date | video release date |\n",
    "    IMDb URL | unknown | Action | Adventure | Animation |\n",
    "    Children's | Comedy | Crime | Documentary | Drama | Fantasy |\n",
    "    Film-Noir | Horror | Musical | Mystery | Romance | Sci-Fi |\n",
    "    Thriller | War | Western \n",
    "\"\"\"\n",
    "# update columns names of dataframe\n",
    "item_df.columns = [x.strip() for x in cols.split('|')]\n",
    "\n",
    "# replace date with decade of release\n",
    "item_df['release_decade'] = [str(int(x)) if ~np.isnan(x) else np.nan for x in 10 * np.floor(pd.to_datetime(item_df['release date']).dt.year / 10)]\n",
    "\n",
    "# drop date\n",
    "item_df.drop(columns=['release date', 'video release date', 'IMDb URL', 'movie title'], inplace=True)\n",
    "\n",
    "# reset dummies\n",
    "item_df.set_index(['movie id'],inplace=True)\n",
    "item_df = item_df[item_df==1].stack().reset_index().drop(0, axis=1)\\\n",
    "    .rename(columns={'level_1': 'genre'})\\\n",
    "    .merge(item_df['release_decade'], left_on='movie id', right_index=True, how='left')\\\n",
    "    .rename(columns={'movie id': 'item_id'})\n",
    "\n",
    "item_df['release_decade'] = item_df['release_decade'].astype(str)\n",
    "\n",
    "print(item_df.nunique())\n",
    "item_df.to_csv('./data/clean/movie-lens-100k-items.csv', index=False)\n",
    "item_df.head()"
   ]
  },
  {
   "cell_type": "code",
   "execution_count": null,
   "metadata": {},
   "outputs": [],
   "source": []
  }
 ],
 "metadata": {
  "kernelspec": {
   "display_name": "Python 3.12.3 ('aplus_env')",
   "language": "python",
   "name": "python3"
  },
  "language_info": {
   "codemirror_mode": {
    "name": "ipython",
    "version": 3
   },
   "file_extension": ".py",
   "mimetype": "text/x-python",
   "name": "python",
   "nbconvert_exporter": "python",
   "pygments_lexer": "ipython3",
   "version": "3.12.3"
  },
  "orig_nbformat": 4,
  "vscode": {
   "interpreter": {
    "hash": "b1bc95e45f665fe95fec2b3ef28eda59fe06862013fb7308bc53ca57b11a4292"
   }
  }
 },
 "nbformat": 4,
 "nbformat_minor": 2
}
