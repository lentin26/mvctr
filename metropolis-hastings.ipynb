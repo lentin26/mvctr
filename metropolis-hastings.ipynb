{
 "cells": [
  {
   "cell_type": "code",
   "execution_count": 2,
   "metadata": {},
   "outputs": [],
   "source": [
    "import numpy as np\n",
    "import pandas as pd"
   ]
  },
  {
   "cell_type": "markdown",
   "metadata": {},
   "source": [
    "# Metropolis-Hastings MCMC\n",
    "A simple example: Binary Distribution"
   ]
  },
  {
   "cell_type": "code",
   "execution_count": 8,
   "metadata": {},
   "outputs": [
    {
     "data": {
      "text/plain": [
       "1    0.64659\n",
       "0    0.35341\n",
       "Name: count, dtype: float64"
      ]
     },
     "execution_count": 8,
     "metadata": {},
     "output_type": "execute_result"
    }
   ],
   "source": [
    "# true distribution\n",
    "# we cant evaluate at any point z\n",
    "p = [0.35, 0.65]\n",
    "\n",
    "r = []\n",
    "z_candidate, z = 0, 0\n",
    "for _ in range(100000):\n",
    "    r.append(z)\n",
    "    # transition probability\n",
    "    A = np.min([1, p[z_candidate] / p[z]])\n",
    "    # accept of reject candidate\n",
    "    if A > np.random.uniform(0, 1):\n",
    "        # move to the candidate state\n",
    "        z = z_candidate\n",
    "    # sample new candidate from the markov chain\n",
    "    # p = 0.5 because p(z_{t+1} | p_t) = p(z_t | p_{z+1})\n",
    "    z_candidate = np.random.binomial(1, p=0.5)\n",
    "\n",
    "# print distribution\n",
    "pd.Series(r).value_counts() / len(r)"
   ]
  },
  {
   "cell_type": "markdown",
   "metadata": {},
   "source": [
    "Multinomial distribution."
   ]
  },
  {
   "cell_type": "code",
   "execution_count": 37,
   "metadata": {},
   "outputs": [
    {
     "data": {
      "text/plain": [
       "0    0.34922\n",
       "1    0.24977\n",
       "2    0.40101\n",
       "Name: count, dtype: float64"
      ]
     },
     "execution_count": 37,
     "metadata": {},
     "output_type": "execute_result"
    }
   ],
   "source": [
    "# transition probability matrix\n",
    "# for Markov chain\n",
    "T = np.ones((3, 3)) * 1/3\n",
    "\n",
    "# true distribution\n",
    "# we cant evaluate at any point z\n",
    "p = [0.35, 0.25, 0.40]\n",
    "\n",
    "r = []\n",
    "z_candidate, z = 0, 0\n",
    "for _ in range(100000):\n",
    "    r.append(z)\n",
    "    # p(z*) = 0.5\n",
    "    A = np.min([1, p[z_candidate] / p[z]])\n",
    "    # accept of reject candidate\n",
    "    if A > np.random.uniform(0, 1):\n",
    "        # move to the candidate state\n",
    "        z = z_candidate\n",
    "    # sample new candidate from the chain\n",
    "    # p = 0.5 because p(z_{t+1} | p_t) = p(z_t | p_{z+1})\n",
    "    z_candidate = np.random.multinomial(1, pvals=T[z]).argmax()\n",
    "\n",
    "# print distribution\n",
    "(pd.Series(r).value_counts() / len(r)).sort_index()"
   ]
  },
  {
   "cell_type": "markdown",
   "metadata": {},
   "source": [
    "## Gibbs Sampler\n",
    "\n",
    "Special case of the metropolis-hastings algorithm. The joint distribution is given by:\n",
    "\n",
    "$$\n",
    "\\prod_{t=1}^T P(\\theta | \\alpha) P(z_{t} | \\theta) \\prod_{l=1}^L  P(\\Phi_{t}^{(l)} | \\beta^{(l)}) P(f_t^{(l)} | z_t, \\Phi_t^{(l)}) \\\\\n",
    "\n",
    "\\propto \\prod_{t=1}^T \\prod_{k=1}^K \\theta_k^{z_{kt} + \\alpha_k - 1} \\prod_{l=1}^L  P(\\Phi_{tk}^{(l)} | z_{tk}, \\beta^{(l)}) P(f_t^{(l)} | z_t, \\Phi_t^{(l)}, \\beta^{(l)}) \\\\\n",
    "$$\n",
    "\n",
    "$$\n",
    "P(\\Phi_{t}^{(l)} | \\beta^{(l)}) = \\prod_{k=1}^K (\\Phi_{tk}^{(l)})^{\\beta_k - 1} \\\\\n",
    "\n",
    "\\prod_{t=1}^T P(\\Phi_{t}^{(l)} | \\beta^{(l)}) P(f_t^{(l)} | z_t, \\Phi_t^{(l)}) \n",
    "    = \\prod_{t=1}^T \\prod_{k=1}^K \\prod_{x=1}^V (\\Phi_{tk}^{(l)})^{f_{tx}^{(l)} z_{tk} + \\beta_k^{(l)} - 1}\n",
    "    = \\prod_{k=1}^K (\\Phi_{tk}^{(l)})^{\\sum_{t=1}^T \\sum_{x=1}^V (f_{tx}^{(l)} z_{tk}) + \\beta_k^{(l)} - 1}\n",
    "$$\n",
    "\n",
    "Marginalizing over $\\Phi_{tk}^{(l)}$ yields:\n",
    "\n",
    "$$\n",
    "P(f^{(l)}, z_t | \\beta^{(l)}) \n",
    "    = \\frac{\\prod_{k=1}^K \\Gamma(n^{(l)}_{k} + \\beta_k)}{\\Gamma(n^{(l)} + \\beta_0)}\n",
    "$$\n",
    "\n",
    "where $n^{(l)} = \\sum_{k=1}^K n^{(l)}_k$ Then,\n",
    "\n",
    "$$\n",
    "P(f^{(l)}, z_t | z_{-t}, \\beta^{(l)}) = \\frac{P(f_t^{(l)}, z_t, z_{-t} | \\beta^{(l)}) }{P(f_t^{(l)} z_{-t} | \\beta^{(l)} ) }\n",
    "    \\propto \\prod_{k=1}^K \\frac{ \\Gamma(n^{(l)}_k + \\beta_k)}{\\Gamma(n^{(l)}_{-tk} + \\beta_k )} \\frac{\\Gamma(n^{(l)}_{-t} + \\beta_0)}{\\Gamma(n^{(l)} + \\beta_0)}\n",
    "    \\propto \\frac{n^{(l)}_{k} + \\beta_k - z_{tk}}{n^{(l)} + \\beta_0}\n",
    "$$\n",
    "\n",
    "where\n",
    "$$\n",
    "n^{(l)}_k = \\sum_{t=1}^T \\sum_{x=1}^V f_{tx}^{(l)} z_{tk} \\\\\n",
    "\n",
    "n^{(l)}_{k, -(t, x)}= \\sum_{t \\neq t'}^T \\sum_{x \\neq x'}^V f_{tx}^{(l)} z_{tk} \\\\\n",
    "$$\n",
    "\n",
    "$$\n",
    "P(\\theta | \\alpha) \\propto \\prod_{k=1}^K \\theta_k^{\\alpha_k - 1} \\\\\n",
    "\n",
    "P(z_{t} | \\theta) \\propto \\prod_{k=1}^K \\theta_k^{z_{tk}}\n",
    "$$\n",
    "\n",
    "$$\n",
    "P(\\theta | \\alpha) P(z_{tk} | \\theta) \\propto \\prod_{k=1}^K \\theta_k^{z_{kt} + \\alpha_k - 1}\n",
    "$$\n",
    "\n",
    "and, \n",
    "$$\n",
    "\\prod_{t=1}^T P(\\theta | \\alpha) P(z_{t} | \\theta) \\propto \\prod_{t=1}^T \\prod_{k=1}^K \\theta_k^{z_{tk} + \\alpha_k - 1} \n",
    "\n",
    "    \\propto \\prod_{k=1}^K \\theta_k^{n_{k} + \\alpha_k - 1}\n",
    "$$\n",
    "\n",
    "Marginalizing over $\\theta_k$ yeilds:\n",
    "\n",
    "$$\n",
    "P(z_t | \\alpha) = \\frac{\\prod_{k=1}^K \\Gamma(\\alpha_k + z_{tk})}{\\Gamma(\\alpha_0 + 1)}\n",
    "$$\n",
    "\n",
    "Where $n_k = \\sum_{t=1}^T z_{tk}$ Now,\n",
    "$$\n",
    "P(z_{t} | z_{-t}, \\alpha) = \\frac{P(z_{t}, z_{-t} | \\alpha)}{P(z_{-t} | \\alpha)} \n",
    "    = \\prod_{k=1}^K \\frac{\\Gamma(\\alpha_k + n_k)}{\\Gamma(\\alpha_k + n_{-tk})} \\cdot \\frac{\\Gamma(\\alpha_0 + N - 1)}{\\Gamma(\\alpha_0 + N)}\n",
    "    \\propto \\prod_{k=1}^K \\frac{\\Gamma(\\alpha_k + n_k)}{\\Gamma(\\alpha_k + n_{-tk})} \n",
    "    \\propto \\prod_{k=1}^K (\\alpha_k + n_{tk} - z_{kt})\n",
    "$$\n",
    "\n",
    "Or just \n",
    "$$\n",
    "P(z_{tk} | z_{-tk}, \\alpha) \\propto \\alpha_k + n_{tk} - z_{tk}\n",
    "$$\n",
    "\n",
    "where $n_k$ is the number of datapoints $t$ assigned to cluster $k$.\n",
    "\n",
    "Our \"pseudo-counts\" are the count of latent variable assignment to datapoints. \n",
    "\n",
    "$$\n",
    "P(z_{i} | z_{-i})\n",
    "$$"
   ]
  },
  {
   "cell_type": "markdown",
   "metadata": {},
   "source": [
    "\n",
    "\n",
    "$$\n",
    "P(z_t | f_t^{(l)}) = \\frac{P(z_t, f_t^{(l)})}{\\sum_{z_t} P(z_t, f_t^{(l)})}\n",
    "$$"
   ]
  },
  {
   "cell_type": "code",
   "execution_count": 62,
   "metadata": {},
   "outputs": [
    {
     "data": {
      "text/plain": [
       "0    0.09751\n",
       "1    0.20606\n",
       "2    0.69643\n",
       "Name: count, dtype: float64"
      ]
     },
     "execution_count": 62,
     "metadata": {},
     "output_type": "execute_result"
    }
   ],
   "source": [
    "# suppose we have a dataset with 30 datapoints\n",
    "# with the following cluster assignment counts\n",
    "n = np.array([10, 20, 70])\n",
    "\n",
    "r = []\n",
    "z_candidate = 0\n",
    "for _ in range(1000000):\n",
    "    n[z_candidate] -= 1 # decrement\n",
    "    # a-K = 1\n",
    "    z_candidate = np.random.multinomial(1, pvals=(n+1)/(n+1).sum()).argmax()\n",
    "    n[z_candidate] += 1 # increment\n",
    "\n",
    "    r.append(z_candidate)\n",
    "\n",
    "\n",
    "# print distribution\n",
    "t = 100000\n",
    "(pd.Series(r)[:t].value_counts() / len(r[:t])).sort_index()"
   ]
  },
  {
   "cell_type": "markdown",
   "metadata": {},
   "source": [
    "The joint distribution is given by:\n",
    "\n",
    "$$\n",
    "P(f, z, \\Phi, \\theta | \\alpha, \\beta)\n",
    "    = \\prod_{t=1}^T P(\\theta | \\alpha) P(z_{t} | \\theta) \\prod_{l=1}^L  P(\\Phi^{(l)} | \\beta^{(l)}) P(f_{t}^{(l)} | z_t, \\Phi^{(l)}) \\\\\n",
    "    = \\prod_{k=1}^K \\theta_k^{\\sum_{t=1}^T z_{t} + \\alpha_k - 1} \\prod_{x=1}^V  (\\Phi_{xk}^{(l)})^{\\sum_{t=1}^T \\sum_{x=1}^V f_{tx}^{(l)}z_t + \\beta_k^{(l)} - 1} \n",
    "$$\n",
    "\n",
    "Marginalizing over $\\theta$ and $\\Phi$ gives:\n",
    "\n",
    "$$\n",
    "    P(f, z | \\alpha, \\beta) = \\int P(f, z, \\Phi_t, \\theta | \\alpha, \\beta) d\\theta d\\Phi \\\\\n",
    "        = \\frac{\\prod_{k=1}^K \\Gamma(n_k + \\alpha_k)}{\\Gamma(\\sum_{k=1}^K n_k + \\alpha_0)} \n",
    "            \\frac{\\prod_{x=1}^V \\prod_{k=1}^K \\Gamma(n_{xk} + \\beta_k)}{\\Gamma(\\sum_{x=1}^V \\sum_{k=1}^K n_{xk} + \\beta_0)}\n",
    "$$\n",
    "\n",
    "Where we defined:\n",
    "\n",
    "$$\n",
    "    n_k \\equiv \\sum_{t=1}^T z_{tk} \\\\\n",
    "    n_{xk} \\equiv \\sum_{t=1}^T f_{tx} z_{tk}\n",
    "$$\n",
    "\n",
    "Then, since $\\Gamma(n+1) = n \\Gamma(n)$:\n",
    "\n",
    "$$\n",
    "P(z_t | z_{-t}, f, \\alpha, \\beta) \\propto P(f, z | \\alpha, \\beta) \\\\\n",
    "    \\propto \\prod_{k \\neq k'} \\Gamma(n_{k, -t} + \\alpha_k) \n",
    "        \\prod_{x \\notin f_t} \\frac{\\Gamma(n_{xk, -(t, x)} + \\beta_k)}{\\Gamma(\\sum_{x=1}^V \\sum_{k=1}^K n_{xk, -(t, x)} + \\beta_0)}\n",
    "        \\Gamma(n_{k', -t} + \\alpha_{k'} + 1) \n",
    "        \\prod_{x \\in f_t} \\frac{\\Gamma(n_{xk', -(t, x)} + \\beta_k' + 1)}{\\Gamma(\\sum_{x=1}^V \\sum_{k'=1}^K n_{xk', -(t, x)} + \\beta_0 + 1)} \\\\\n",
    "    = \\prod_{k = 1}^K \\Gamma(n_{k, -t} + \\alpha_k) \n",
    "        \\prod_{x=1}^V \\frac{\\Gamma(n_{xk, -(t, x)} + \\beta_k)}{\\Gamma(\\sum_{x=1}^V \\sum_{k=1}^K n_{xk, -(t, x)} + \\beta_0)}\n",
    "        (n_{k', -t} + \\alpha_{k'}) \\prod_{x \\in f_t} \\frac{n_{xk', -(t, x)} + \\beta_{k'}}{\\sum_{x=1}^V \\sum_{k'=1}^K n_{xk', -(t, x)} + \\beta_0} \\\\\n",
    "    \\propto (n_{k, -t} + \\alpha_{k}) \\prod_{x \\in f_t}  \\frac{n_{xk, -(t, x)} + \\beta_k}{\\sum_{x=1}^V \\sum_{k'=1}^K n_{xk, -(t, x)} + \\beta_0} \\\\\n",
    "$$"
   ]
  },
  {
   "cell_type": "code",
   "execution_count": null,
   "metadata": {},
   "outputs": [],
   "source": []
  }
 ],
 "metadata": {
  "kernelspec": {
   "display_name": "Python 3.12.1 ('eda_env')",
   "language": "python",
   "name": "python3"
  },
  "language_info": {
   "codemirror_mode": {
    "name": "ipython",
    "version": 3
   },
   "file_extension": ".py",
   "mimetype": "text/x-python",
   "name": "python",
   "nbconvert_exporter": "python",
   "pygments_lexer": "ipython3",
   "version": "3.12.1"
  },
  "orig_nbformat": 4,
  "vscode": {
   "interpreter": {
    "hash": "5fcae1851d38a4aaf4eaac6f9b47e08f0d07f972bba83e950c85c41bae232ed3"
   }
  }
 },
 "nbformat": 4,
 "nbformat_minor": 2
}
